{
 "cells": [
  {
   "cell_type": "markdown",
   "metadata": {},
   "source": [
    "# The Field\n",
    "\n",
    "## 1.1 Intro to complex numbers\n",
    "What is the squareroot of -9?  This question is impossible to answer without the use of complex numbers.  A complex number is a number that is represented by the combination of real and imaginary numbers.\n",
    "\n",
    "So let's look at the sqrt of -9 again."
   ]
  },
  {
   "cell_type": "code",
   "execution_count": 2,
   "metadata": {},
   "outputs": [
    {
     "ename": "ValueError",
     "evalue": "math domain error",
     "output_type": "error",
     "traceback": [
      "\u001b[0;31m---------------------------------------------------------------------------\u001b[0m",
      "\u001b[0;31mValueError\u001b[0m                                Traceback (most recent call last)",
      "\u001b[0;32m<ipython-input-2-8a6ea6d6eb22>\u001b[0m in \u001b[0;36m<module>\u001b[0;34m()\u001b[0m\n\u001b[1;32m      1\u001b[0m \u001b[0;32mfrom\u001b[0m \u001b[0mmath\u001b[0m \u001b[0;32mimport\u001b[0m \u001b[0msqrt\u001b[0m\u001b[0;34m\u001b[0m\u001b[0m\n\u001b[0;32m----> 2\u001b[0;31m \u001b[0my\u001b[0m \u001b[0;34m=\u001b[0m \u001b[0msqrt\u001b[0m\u001b[0;34m(\u001b[0m\u001b[0;34m-\u001b[0m\u001b[0;36m9\u001b[0m\u001b[0;34m)\u001b[0m\u001b[0;34m\u001b[0m\u001b[0m\n\u001b[0m",
      "\u001b[0;31mValueError\u001b[0m: math domain error"
     ]
    }
   ],
   "source": [
    "from math import sqrt\n",
    "y = sqrt(-9)"
   ]
  },
  {
   "cell_type": "markdown",
   "metadata": {},
   "source": [
    "Because of this error, we need to use another programming method to obtain the answer."
   ]
  },
  {
   "cell_type": "code",
   "execution_count": 3,
   "metadata": {},
   "outputs": [
    {
     "data": {
      "text/plain": [
       "(1.8369701987210297e-16+3j)"
      ]
     },
     "execution_count": 3,
     "metadata": {},
     "output_type": "execute_result"
    }
   ],
   "source": [
    "n = (-9)**0.5\n",
    "n"
   ]
  },
  {
   "cell_type": "markdown",
   "metadata": {},
   "source": [
    "## 1.2 Complex numbers in Python\n",
    "Now consider the following:\n",
    "\n",
    "(x-1)^2 = -9, what is x?  How would we write this in python?"
   ]
  },
  {
   "cell_type": "code",
   "execution_count": 4,
   "metadata": {},
   "outputs": [
    {
     "data": {
      "text/plain": [
       "(1.0000000000000002+3j)"
      ]
     },
     "execution_count": 4,
     "metadata": {},
     "output_type": "execute_result"
    }
   ],
   "source": [
    "x = ((-9)**0.5) + 1\n",
    "x"
   ]
  },
  {
   "cell_type": "code",
   "execution_count": 5,
   "metadata": {},
   "outputs": [
    {
     "data": {
      "text/plain": [
       "(-9+1.3322676295501878e-15j)"
      ]
     },
     "execution_count": 5,
     "metadata": {},
     "output_type": "execute_result"
    }
   ],
   "source": [
    "z = (x-1)**2\n",
    "z"
   ]
  },
  {
   "cell_type": "markdown",
   "metadata": {},
   "source": [
    "### j denotes the imaginary compenent of the complex number"
   ]
  },
  {
   "cell_type": "code",
   "execution_count": 6,
   "metadata": {},
   "outputs": [
    {
     "data": {
      "text/plain": [
       "-9.0"
      ]
     },
     "execution_count": 6,
     "metadata": {},
     "output_type": "execute_result"
    }
   ],
   "source": [
    "z.real # using .real and .imag, returns the float value "
   ]
  },
  {
   "cell_type": "code",
   "execution_count": 7,
   "metadata": {},
   "outputs": [
    {
     "data": {
      "text/plain": [
       "0.9999999999999989"
      ]
     },
     "execution_count": 7,
     "metadata": {},
     "output_type": "execute_result"
    }
   ],
   "source": [
    "x.real - z.imag  # due to the computer's limitations calculating , these values are not able to reconcile each other"
   ]
  },
  {
   "cell_type": "code",
   "execution_count": 8,
   "metadata": {},
   "outputs": [
    {
     "data": {
      "text/plain": [
       "complex"
      ]
     },
     "execution_count": 8,
     "metadata": {},
     "output_type": "execute_result"
    }
   ],
   "source": [
    "type(z)   # What do you think type() returns if z.real/z.imag is passed?"
   ]
  },
  {
   "cell_type": "markdown",
   "metadata": {},
   "source": [
    "## 1.3 Abstracting over *fields*\n",
    "\n",
    "Why does overloading matter?  Well, first understand the function of overloading.  Overloading is when the same name, such as '-', is used for different procedures that operate on varying datatype values.  Some examples:"
   ]
  },
  {
   "cell_type": "code",
   "execution_count": 9,
   "metadata": {},
   "outputs": [
    {
     "data": {
      "text/plain": [
       "22.666666666666668"
      ]
     },
     "execution_count": 9,
     "metadata": {},
     "output_type": "execute_result"
    }
   ],
   "source": [
    "def solve1(a,b,c): return (c-b)/a  # this function finds x, f(x) => ax + b = c\n",
    "solve1(15, 90, 430)  "
   ]
  },
  {
   "cell_type": "code",
   "execution_count": 10,
   "metadata": {},
   "outputs": [
    {
     "data": {
      "text/plain": [
       "(-1.346153846153846+6.730769230769231j)"
      ]
     },
     "execution_count": 10,
     "metadata": {},
     "output_type": "execute_result"
    }
   ],
   "source": [
    "solve1(1+5j, 55, 20)"
   ]
  },
  {
   "cell_type": "markdown",
   "metadata": {},
   "source": [
    "### Overloading allows the function to be carried out because *a* is non-zero and used with an arithemtic operator"
   ]
  },
  {
   "cell_type": "code",
   "execution_count": 11,
   "metadata": {},
   "outputs": [
    {
     "data": {
      "text/plain": [
       "[(2.0, 2.0),\n",
       " (3.0, 2.0),\n",
       " (1.75, 1.0),\n",
       " (2.0, 1.0),\n",
       " (2.25, 1.0),\n",
       " (2.5, 1.0),\n",
       " (2.75, 1.0),\n",
       " (3.0, 1.0),\n",
       " (3.25, 1.0)]"
      ]
     },
     "execution_count": 11,
     "metadata": {},
     "output_type": "execute_result"
    }
   ],
   "source": [
    "# Task 1.4.1 - Use complex numbers to create coordinates on a complex plane\n",
    "import matplotlib.pyplot as plt\n",
    "import matplotlib.axes as ax\n",
    "import numpy as np\n",
    "\n",
    "s = [(2+2j), (3+2j), (1.75+1j), (2+1j), (2.25+1j), (2.5+1j), (2.75+1j), (3+1j), (3.25+1j)]\n",
    "\n",
    "def coord(st): return [(c.real, c.imag) for c in st]\n",
    "coord(s)"
   ]
  },
  {
   "cell_type": "code",
   "execution_count": 12,
   "metadata": {},
   "outputs": [
    {
     "data": {
      "image/png": "[encoded data removed]",
      "text/plain": [
       "<Figure size 432x288 with 1 Axes>"
      ]
     },
     "metadata": {
      "needs_background": "light"
     },
     "output_type": "display_data"
    }
   ],
   "source": [
    "# plot(s,4)\n",
    "[plt.scatter(x,y,c='b') for x,y in coord(s)]\n",
    "plt.xlim([-2, 5])\n",
    "plt.ylim([-2, 5])\n",
    "plt.axhline(color=\"black\")\n",
    "plt.vlines(0, -100, 100)\n",
    "plt.title(\"Task 1.4.1\")\n",
    "plt.show()"
   ]
  },
  {
   "cell_type": "markdown",
   "metadata": {},
   "source": [
    "### 1.4.1 Absolute value of complex numbers\n",
    "\n",
    "The absolute value of a complex number, ex. abs(1+2j), represents the distance of that coordinate from the plane's origin.\n",
    "#### abs(n)^2 = (n.real)^2 + (n.imag)^2"
   ]
  },
  {
   "cell_type": "code",
   "execution_count": 13,
   "metadata": {},
   "outputs": [
    {
     "data": {
      "text/plain": [
       "2.8284271247461903"
      ]
     },
     "execution_count": 13,
     "metadata": {},
     "output_type": "execute_result"
    }
   ],
   "source": [
    "abs(s[0])"
   ]
  },
  {
   "cell_type": "code",
   "execution_count": 14,
   "metadata": {},
   "outputs": [
    {
     "data": {
      "text/plain": [
       "2.8284271247461903"
      ]
     },
     "execution_count": 14,
     "metadata": {},
     "output_type": "execute_result"
    }
   ],
   "source": [
    "# Double check\n",
    "def f(x): return (x.real**2 + x.imag**2)**0.5\n",
    "f(s[0])"
   ]
  },
  {
   "cell_type": "markdown",
   "metadata": {},
   "source": [
    "## 1.4.2 Adding complex numbers\n",
    "\n",
    "Combining complex numbers may seem daunting, but it really is intuitive.  Examples are probably the best way to explain how these datatypes are added together."
   ]
  },
  {
   "cell_type": "code",
   "execution_count": 15,
   "metadata": {},
   "outputs": [
    {
     "data": {
      "text/plain": [
       "[(3.5+3j),\n",
       " (4.5+3j),\n",
       " (3.25+2j),\n",
       " (3.5+2j),\n",
       " (3.75+2j),\n",
       " (4+2j),\n",
       " (4.25+2j),\n",
       " (4.5+2j),\n",
       " (4.75+2j)]"
      ]
     },
     "execution_count": 15,
     "metadata": {},
     "output_type": "execute_result"
    }
   ],
   "source": [
    "# Mod_s is a modified version of s where 1.5+i is added to each point\n",
    "mod_s = [(1.5+1j)+o for o in s]\n",
    "mod_s"
   ]
  },
  {
   "cell_type": "code",
   "execution_count": 16,
   "metadata": {},
   "outputs": [
    {
     "data": {
      "image/png": "[encoded data removed]",
      "text/plain": [
       "<Figure size 432x288 with 1 Axes>"
      ]
     },
     "metadata": {
      "needs_background": "light"
     },
     "output_type": "display_data"
    }
   ],
   "source": [
    "# Task 1.4.3 - Plot a coord(mod_s, 4) and coord(s)\n",
    "[plt.scatter(x,y,c='r') for x,y in coord(s)]\n",
    "[plt.scatter(x,y,c='g') for x,y in coord(mod_s)]\n",
    "plt.xlim([-2, 5])\n",
    "plt.ylim([-2, 5])\n",
    "plt.axhline(color=\"black\")\n",
    "plt.vlines(0, -100, 100)\n",
    "plt.title(\"Task 1.4.3\")\n",
    "plt.show()"
   ]
  },
  {
   "cell_type": "code",
   "execution_count": 17,
   "metadata": {},
   "outputs": [
    {
     "data": {
      "image/png": "[encoded data removed]",
      "text/plain": [
       "<Figure size 432x288 with 1 Axes>"
      ]
     },
     "metadata": {
      "needs_background": "light"
     },
     "output_type": "display_data"
    }
   ],
   "source": [
    "#Proglem 1.4.5a - Show two points, c1 and c2, where there is a translation that maps c1 to c2\n",
    "\n",
    "c1 = 1+5j\n",
    "c2 = 4-1j\n",
    "\n",
    "plt.xlim([-5, 7])\n",
    "plt.ylim([-5, 7])\n",
    "plt.axhline(color=\"black\")\n",
    "plt.vlines(0, -100, 100)\n",
    "plt.title(\"c1 maps to c2\")\n",
    "\n",
    "plt.scatter(c1.real, c1.imag, c=\"r\")\n",
    "plt.scatter(c2.real, c2.imag, c=\"b\")\n",
    "plt.arrow(c1.real, c1.imag, c2.real - c1.real, c2.imag - c1.imag, color=\"red\", head_width=0.25,\n",
    "          length_includes_head=True)\n",
    "\n",
    "plt.show()"
   ]
  },
  {
   "cell_type": "code",
   "execution_count": 18,
   "metadata": {
    "scrolled": true
   },
   "outputs": [
    {
     "data": {
      "image/png": "[encoded data removed]",
      "text/plain": [
       "<Figure size 432x288 with 1 Axes>"
      ]
     },
     "metadata": {
      "needs_background": "light"
     },
     "output_type": "display_data"
    }
   ],
   "source": [
    "#Proglem 1.4.5b - Show two points, c1 and c2, where there is a translation that maps c2 to c1\n",
    "\n",
    "c1 = 1+5j\n",
    "c2 = 4-1j\n",
    "\n",
    "plt.xlim([-5, 7])\n",
    "plt.ylim([-5, 7])\n",
    "plt.axhline(color=\"black\")\n",
    "plt.vlines(0, -100, 100)\n",
    "plt.title(\"c2 maps to c1\")\n",
    "\n",
    "plt.scatter(c1.real, c1.imag, c=\"r\")\n",
    "plt.scatter(c2.real, c2.imag, c=\"b\")\n",
    "plt.arrow(c2.real, c2.imag, c1.real - c2.real, c1.imag - c2.imag, color=\"blue\", head_width=0.25,\n",
    "          length_includes_head=True)\n",
    "\n",
    "plt.show()"
   ]
  },
  {
   "cell_type": "code",
   "execution_count": 19,
   "metadata": {},
   "outputs": [
    {
     "data": {
      "image/png": "[encoded data removed]",
      "text/plain": [
       "<Figure size 432x288 with 1 Axes>"
      ]
     },
     "metadata": {
      "needs_background": "light"
     },
     "output_type": "display_data"
    }
   ],
   "source": [
    "#Proglem 1.4.5c - Show two points, c1 and c2, where there is no translation that maps both c1 to c2 and c2 to c1\n",
    "\n",
    "c1 = 1+5j\n",
    "c2 = 4-1j\n",
    "\n",
    "plt.xlim([-10, 10])\n",
    "plt.ylim([-10, 12])\n",
    "plt.axhline(color=\"black\")\n",
    "plt.vlines(0, -100, 100)\n",
    "plt.title('Neither of the functions are able to satisfy both maps')\n",
    "\n",
    "plt.scatter(c1.real, c1.imag, c=\"r\")\n",
    "plt.scatter(c2.real, c2.imag, c=\"b\")\n",
    "plt.arrow(c2.real, c2.imag, c1.real - c2.real, c1.imag - c2.imag, color=\"blue\", head_width=0.25,\n",
    "          length_includes_head=True)\n",
    "plt.arrow(c1.real, c1.imag, c1.real - c2.real, c1.imag - c2.imag, color=\"red\", head_width=0.25,\n",
    "          length_includes_head=True)\n",
    "plt.arrow(c2.real, c2.imag, c2.real - c1.real, c2.imag - c1.imag, color=\"blue\", head_width=0.25,\n",
    "          length_includes_head=True)\n",
    "plt.arrow(c1.real, c1.imag, c2.real - c1.real, c2.imag - c1.imag, color=\"red\", head_width=0.25,\n",
    "          length_includes_head=True)\n",
    "plt.show()"
   ]
  },
  {
   "cell_type": "code",
   "execution_count": 20,
   "metadata": {},
   "outputs": [
    {
     "data": {
      "image/png": "[encoded data removed]",
      "text/plain": [
       "<Figure size 432x288 with 1 Axes>"
      ]
     },
     "metadata": {
      "needs_background": "light"
     },
     "output_type": "display_data"
    }
   ],
   "source": [
    "# Problem 1.4.6 - Display -3+3i using arrows from two different points\n",
    "\n",
    "c = -3+3j\n",
    "c1 = 1+5j\n",
    "c2 = 4-1j\n",
    "\n",
    "plt.xlim([-5, 7])\n",
    "plt.ylim([-5, 7])\n",
    "plt.axhline(color=\"black\")\n",
    "plt.vlines(0, -100, 100)\n",
    "plt.title('Plotting -3+3i using arrows')\n",
    "\n",
    "plt.scatter(c1.real, c1.imag, c=\"r\")\n",
    "plt.scatter(c2.real, c2.imag, c=\"b\")\n",
    "plt.arrow(c2.real, c2.imag, c.real - c2.real, c.imag - c2.imag, color=\"blue\", head_width=0.25,\n",
    "          length_includes_head=True)\n",
    "plt.arrow(c1.real, c1.imag, c.real - c1.real, c.imag - c1.imag, color=\"red\", head_width=0.25,\n",
    "          length_includes_head=True)\n",
    "plt.show()"
   ]
  },
  {
   "cell_type": "markdown",
   "metadata": {},
   "source": [
    "## 1.4.3  Multiplying complex number by a positive real number\n",
    "\n",
    "Now let's look at what happens with multiplication."
   ]
  },
  {
   "cell_type": "code",
   "execution_count": 21,
   "metadata": {},
   "outputs": [
    {
     "data": {
      "image/png": "[encoded data removed]",
      "text/plain": [
       "<Figure size 432x288 with 1 Axes>"
      ]
     },
     "metadata": {
      "needs_background": "light"
     },
     "output_type": "display_data"
    }
   ],
   "source": [
    "# Task 1.4.7 - Multiply numbers in s by 0.5\n",
    "half_s = [n*0.5 for n in s]\n",
    "\n",
    "plt.xlim([-3, 3])\n",
    "plt.ylim([-3, 3])\n",
    "plt.axhline(color=\"black\")\n",
    "plt.vlines(0, -100, 100)\n",
    "plt.title('Half-sized smiley')\n",
    "\n",
    "[plt.scatter(x,y,c='g') for x,y in coord(half_s)]\n",
    "plt.show()"
   ]
  },
  {
   "cell_type": "markdown",
   "metadata": {},
   "source": [
    "## 1.4.4/1.4.5 Multiplying complex numbers by a negative real number\n",
    "\n",
    "Now that you know how the multiplication process works, let's see what happens when you multiply by a negative."
   ]
  },
  {
   "cell_type": "code",
   "execution_count": 22,
   "metadata": {},
   "outputs": [
    {
     "data": {
      "image/png": "[encoded data removed]",
      "text/plain": [
       "<Figure size 432x288 with 1 Axes>"
      ]
     },
     "metadata": {
      "needs_background": "light"
     },
     "output_type": "display_data"
    }
   ],
   "source": [
    "rneg_s = [n*(-0.5) for n in s]\n",
    "imag_s = [n*(0.5j) for n in s]\n",
    "ineg_s = [n*(-0.5j) for n in s]\n",
    "plt.xlim([-3, 3])\n",
    "plt.ylim([-3, 3])\n",
    "plt.axhline(color=\"black\")\n",
    "plt.vlines(0, -100, 100)\n",
    "plt.title('Half-sized smileys')\n",
    "[plt.scatter(x,y,c='b') for x,y in coord(half_s)]\n",
    "[plt.scatter(x,y,c='g') for x,y in coord(rneg_s)]\n",
    "[plt.scatter(x,y,c='r') for x,y in coord(imag_s)]\n",
    "[plt.scatter(x,y,c='y') for x,y in coord(ineg_s)]\n",
    "plt.show()"
   ]
  },
  {
   "cell_type": "code",
   "execution_count": 23,
   "metadata": {},
   "outputs": [
    {
     "data": {
      "image/png": "[encoded data removed]",
      "text/plain": [
       "<Figure size 432x288 with 1 Axes>"
      ]
     },
     "metadata": {
      "needs_background": "light"
     },
     "output_type": "display_data"
    }
   ],
   "source": [
    "# Task 1.4.9 - Draw coord(s) such that the image is turned 90 degrees, scaled by 0.5, and dx=2, dy=-1\n",
    "new_s = [(n*(0.5j))+(2-1j) for n in s]\n",
    "\n",
    "plt.xlim([-5, 5])\n",
    "plt.ylim([-5, 5])\n",
    "plt.axhline(color=\"black\")\n",
    "plt.vlines(0, -100, 100)\n",
    "plt.title('Half-sized smileys')\n",
    "[plt.scatter(x,y,c='b') for x,y in coord(new_s)]\n",
    "[plt.scatter(x,y,c='r') for x,y in coord(s)]\n",
    "plt.show()"
   ]
  },
  {
   "cell_type": "code",
   "execution_count": 24,
   "metadata": {},
   "outputs": [
    {
     "data": {
      "text/plain": [
       "[(190, 190, 190),\n",
       " (192, 192, 192),\n",
       " (195, 195, 195),\n",
       " (196, 196, 196),\n",
       " (197, 197, 197)]"
      ]
     },
     "execution_count": 24,
     "metadata": {},
     "output_type": "execute_result"
    }
   ],
   "source": [
    "# Task 1.4.10a - import img01.png using file2image from image.py\n",
    "import png\n",
    "def _flat2boxed(row):\n",
    "    # Note we skip every 4th element, thus eliminating the alpha channel\n",
    "    return [tuple(row[i:i+3]) for i in range(0, len(row), 4)]\n",
    "def file2image(path):\n",
    "    \"\"\" Reads an image into a list of lists of pixel values (tuples with\n",
    "        three values). This is a color image. \"\"\"\n",
    "    (w, h, p, m) = png.Reader(filename = path).asRGBA() # force RGB and alpha\n",
    "    return [_flat2boxed(r) for r in p]\n",
    "\n",
    "pic = file2image('img01.png')\n",
    "pic[0][10:15]"
   ]
  },
  {
   "cell_type": "code",
   "execution_count": 37,
   "metadata": {},
   "outputs": [
    {
     "data": {
      "image/png": "[encoded data removed]",
      "text/plain": [
       "<Figure size 432x288 with 1 Axes>"
      ]
     },
     "metadata": {
      "needs_background": "light"
     },
     "output_type": "display_data"
    }
   ],
   "source": [
    "# Task 1.4.10b - import img01.png using file2image from image.py\n",
    "pts = list({x-(y*1j)+190j for y in range(len(pic)) for x in range(len(pic[y])) if pic[y][x][2] < 120 and y!=0})\n",
    "plt.xlim([-19, 200])\n",
    "plt.ylim([-19, 200])\n",
    "plt.axhline(color=\"black\")\n",
    "plt.vlines(0, -19, 200)\n",
    "plt.title(\"Test\")\n",
    "#m_pts = [n+(n.imag*-2j) for n in pts]\n",
    "[plt.scatter(x,y,c='b') for x,y in coord(pts)]\n",
    "plt.show()"
   ]
  },
  {
   "cell_type": "code",
   "execution_count": null,
   "metadata": {},
   "outputs": [],
   "source": []
  },
  {
   "cell_type": "code",
   "execution_count": null,
   "metadata": {},
   "outputs": [],
   "source": []
  },
  {
   "cell_type": "code",
   "execution_count": null,
   "metadata": {},
   "outputs": [],
   "source": []
  },
  {
   "cell_type": "code",
   "execution_count": null,
   "metadata": {},
   "outputs": [],
   "source": []
  },
  {
   "cell_type": "code",
   "execution_count": null,
   "metadata": {},
   "outputs": [],
   "source": []
  },
  {
   "cell_type": "code",
   "execution_count": null,
   "metadata": {},
   "outputs": [],
   "source": []
  },
  {
   "cell_type": "code",
   "execution_count": null,
   "metadata": {},
   "outputs": [],
   "source": []
  },
  {
   "cell_type": "code",
   "execution_count": null,
   "metadata": {},
   "outputs": [],
   "source": []
  }
 ],
 "metadata": {
  "kernelspec": {
   "display_name": "Python [conda env:bioinfo]",
   "language": "python",
   "name": "conda-env-bioinfo-py"
  },
  "language_info": {
   "codemirror_mode": {
    "name": "ipython",
    "version": 3
   },
   "file_extension": ".py",
   "mimetype": "text/x-python",
   "name": "python",
   "nbconvert_exporter": "python",
   "pygments_lexer": "ipython3",
   "version": "3.6.6"
  }
 },
 "nbformat": 4,
 "nbformat_minor": 2
}

{
 "cells": [
  {
   "cell_type": "markdown",
   "metadata": {},
   "source": [
    "# \"Coding the Matrix: Linear Algebra through Applications to Computer Science\"\n",
    "The book is by Philip N. Klein of Brown University (website:http://codingthematrix.com/ & ISBN:9780615856735). This book focuses on learning and applying linear algebra with respect to programming, specifically Python.  The book suggests that the student reading the text is adept in programming (in a CompSci program or taught themselves programming) and has a basic understanding of math and probabilities.  \n",
    "\n",
    "This is my first time using this book and I am hoping to learn the applications of linear algebra for future endeavors in bioinformatics.  I will be uploading my notes from the text.  These notes will be reflective of the topics discussed in the book but with my interpretation.  I have two goals.  First, I aim to share notes that are digestable.  The second, is to push my programming abilities.  You will see that I use my own terminology.  I will include a disclaimer when I do.  I will ask that if you think am over simplifying or misrepresenting something, PLEASE LET ME KNOW!!  Because I may use different terms or present incomplete review of certain sections, it is important for you to learn on your own.  In the spirit of Donna Meagle and Tom Havaford from Parks and Rec *\"Teach Yo' Self!\"*.  \n",
    "\n",
    "\n",
    "# Chapter 0: The Function (and other mathematical and computational preliminaries)\n",
    "\n",
    "Chapter 0 is an overview of the mathematical concepts that will be encountered throughout the book and an introduction to Python as it applies to the text. I will not be covering 0.1 Set terminology and notation.  I will be using Python code to displaying concepts and methods."
   ]
  },
  {
   "cell_type": "markdown",
   "metadata": {},
   "source": [
    "## 0.2 Cartesian product\n",
    "Cartesian product is the product of two sets that represent all possible pairs of the two sets.  Think about a deck of cards.  There are four suits each consisting of Ace through King.  \n",
    "\n",
    "Or, there are 4 categories with 13 values per category."
   ]
  },
  {
   "cell_type": "code",
   "execution_count": 244,
   "metadata": {},
   "outputs": [
    {
     "data": {
      "text/plain": [
       "52"
      ]
     },
     "execution_count": 244,
     "metadata": {},
     "output_type": "execute_result"
    }
   ],
   "source": [
    "cat = ['Red', 'Blue', 'Yellow', 'Black']               # set 4 categories\n",
    "CartProd = [(n, c) for n in range(1, 14) for c in cat] # create the Cartesian product using a for loop\n",
    "len(CartProd)                                          # the value of the Cartesian product; aka \"cardinality\""
   ]
  },
  {
   "cell_type": "markdown",
   "metadata": {},
   "source": [
    "## 0.3 The function\n",
    "\n",
    "A function is a rule that produces an augmented set from the original.  A perfect example is list comprehension."
   ]
  },
  {
   "cell_type": "code",
   "execution_count": 245,
   "metadata": {},
   "outputs": [],
   "source": [
    "rng = range(1, 6)\n",
    "fofx = [[n,2*n,n*n] for n in rng]                    \n",
    "gofx = [n/2 for n in rng]                            \n",
    "fofgofx = [[g,2*g,g*g] for g in gofx]               \n",
    "goffofx = [[f/2 for f in lst] for lst in fofx]       "
   ]
  },
  {
   "cell_type": "code",
   "execution_count": 246,
   "metadata": {},
   "outputs": [
    {
     "data": {
      "text/plain": [
       "[[1, 2, 1], [2, 4, 4], [3, 6, 9], [4, 8, 16], [5, 10, 25]]"
      ]
     },
     "execution_count": 246,
     "metadata": {},
     "output_type": "execute_result"
    }
   ],
   "source": [
    "fofx   # f(x) = [x, 2x, x^2]"
   ]
  },
  {
   "cell_type": "code",
   "execution_count": 247,
   "metadata": {},
   "outputs": [
    {
     "data": {
      "text/plain": [
       "[0.5, 1.0, 1.5, 2.0, 2.5]"
      ]
     },
     "execution_count": 247,
     "metadata": {},
     "output_type": "execute_result"
    }
   ],
   "source": [
    "gofx   # g(x) = x/2"
   ]
  },
  {
   "cell_type": "code",
   "execution_count": 248,
   "metadata": {},
   "outputs": [
    {
     "data": {
      "text/plain": [
       "[[0.5, 1.0, 0.25],\n",
       " [1.0, 2.0, 1.0],\n",
       " [1.5, 3.0, 2.25],\n",
       " [2.0, 4.0, 4.0],\n",
       " [2.5, 5.0, 6.25]]"
      ]
     },
     "execution_count": 248,
     "metadata": {},
     "output_type": "execute_result"
    }
   ],
   "source": [
    "fofgofx   # f(g(x)) = [x/2, x, (x/2)^2]"
   ]
  },
  {
   "cell_type": "code",
   "execution_count": 249,
   "metadata": {},
   "outputs": [
    {
     "data": {
      "text/plain": [
       "[[0.5, 1.0, 0.5],\n",
       " [1.0, 2.0, 2.0],\n",
       " [1.5, 3.0, 4.5],\n",
       " [2.0, 4.0, 8.0],\n",
       " [2.5, 5.0, 12.5]]"
      ]
     },
     "execution_count": 249,
     "metadata": {},
     "output_type": "execute_result"
    }
   ],
   "source": [
    "goffofx   # g(f(x)) = [x/2, x, (x^2)/2]"
   ]
  },
  {
   "cell_type": "markdown",
   "metadata": {},
   "source": [
    "Note that f(x) and g(x) are not invertible.  "
   ]
  },
  {
   "cell_type": "code",
   "execution_count": 250,
   "metadata": {},
   "outputs": [],
   "source": [
    "zofx = [n*3 for n in rng]\n",
    "gofzofx = [n/2 for n in zofx]\n",
    "zofgofx = [n*3 for n in gofx]"
   ]
  },
  {
   "cell_type": "code",
   "execution_count": 251,
   "metadata": {},
   "outputs": [
    {
     "data": {
      "text/plain": [
       "[1.5, 3.0, 4.5, 6.0, 7.5]"
      ]
     },
     "execution_count": 251,
     "metadata": {},
     "output_type": "execute_result"
    }
   ],
   "source": [
    "gofzofx   # g(z(x)) = (x*3)/2"
   ]
  },
  {
   "cell_type": "code",
   "execution_count": 252,
   "metadata": {},
   "outputs": [
    {
     "data": {
      "text/plain": [
       "[1.5, 3.0, 4.5, 6.0, 7.5]"
      ]
     },
     "execution_count": 252,
     "metadata": {},
     "output_type": "execute_result"
    }
   ],
   "source": [
    "zofgofx   # z(g(x)) = (x/2)*3"
   ]
  },
  {
   "cell_type": "markdown",
   "metadata": {},
   "source": [
    "Where z(x) and g(x) are invertible.  It is very important to recognize what makes functions invertible.  There are few proofs in this section that define the criteria.  *Teach Yo' Self!*"
   ]
  },
  {
   "cell_type": "markdown",
   "metadata": {},
   "source": [
    "## 0.4 Probability\n",
    "Probability is defined as *the likelihood an event will occur*.\n",
    "\n",
    "Throughout these notes you will see me use \"proability\" and \"occurance rate\" interchangeably.\n",
    "\n",
    "I interpret the description as *the rate an event can occur*.  \n",
    "\n",
    "**DISCLAIMER:If you are confused by my meaning or don't want to stray from best practice, whenever you see \"occurance rate\" replace it with \"probability\".**\n",
    "\n",
    "An outcome is one of multiple instances that an action can result.  If I am thinking about eating candy, two obvious outcomes result: I will eat candy and I won't eat candy.\n",
    "\n",
    "An event is the observed outcome of an action.  If I go from thinking about candy to eating it, the event is me eating candy.\n",
    "\n",
    "I bring up this kind of action because it calls into question the model of a *discrete* system.  A discrete system only is concerned with a finite number of outcomes, all of which are proportional to the relative probability of all outcomes.  In this example the number of outcomes is greatly impacted by environment, mood, day of the week, etc.  \n",
    "\n",
    "It is due to factors like these that make the example defined by a *continuous system*.  *Teach Yo' Self!*"
   ]
  },
  {
   "cell_type": "markdown",
   "metadata": {},
   "source": [
    "### Uniform distributions\n",
    "Each event have equal occurance rate.  Let's say I have two coins, a penny and a quarter.  I flip both of these coins at the same time and observe both land on heads.  This is the observed event out of four possible events.  Below is code that represents the action of flipping two coins:"
   ]
  },
  {
   "cell_type": "code",
   "execution_count": 253,
   "metadata": {},
   "outputs": [
    {
     "data": {
      "text/plain": [
       "{('H', 'H'): 0.25, ('H', 'T'): 0.25, ('T', 'H'): 0.25, ('T', 'T'): 0.25}"
      ]
     },
     "execution_count": 253,
     "metadata": {},
     "output_type": "execute_result"
    }
   ],
   "source": [
    "penny = ('H', 'T') \n",
    "quarter = ('H', 'T') \n",
    "events = [(p, q) for p in penny for q in quarter] #defines the possible events\n",
    "prob = 1/len(events)                              #defines the occurance rate\n",
    "Unidistr = {e:prob for e in events}               #defines a dictionary that connects each event to its occurance rate\n",
    "Unidistr"
   ]
  },
  {
   "cell_type": "markdown",
   "metadata": {},
   "source": [
    "## Nonuniform distributions\n",
    "Each event have different occurance rates.  Below is a function that takes an argument that will find the occurance rate of odds and evens in the argument.  "
   ]
  },
  {
   "cell_type": "code",
   "execution_count": 254,
   "metadata": {},
   "outputs": [],
   "source": [
    "def odd_even(lst):\n",
    "    odds = []\n",
    "    evens = []\n",
    "    for x in lst:\n",
    "        evens.append(x) if x % 2 == 0 else odds.append(x)\n",
    "    prob_o = len(odds)/len(lst)\n",
    "    prob_e = len(evens)/len(lst)\n",
    "    print(\"\"\"Occurance rate of evens: {}\n",
    "Occurance rate of odds:  {}\"\"\".format(prob_e, prob_o))"
   ]
  },
  {
   "cell_type": "code",
   "execution_count": 255,
   "metadata": {},
   "outputs": [
    {
     "name": "stdout",
     "output_type": "stream",
     "text": [
      "Occurance rate of evens: 0.6666666666666666\n",
      "Occurance rate of odds:  0.3333333333333333\n"
     ]
    },
    {
     "data": {
      "text/plain": [
       "6"
      ]
     },
     "execution_count": 255,
     "metadata": {},
     "output_type": "execute_result"
    }
   ],
   "source": [
    "from random import randint\n",
    "lst = [1,2,4,5,6,2,4,6,2,34,245,123]\n",
    "odd_even(lst)\n",
    "lst[randint(0,len(lst)-1)]"
   ]
  },
  {
   "cell_type": "markdown",
   "metadata": {},
   "source": [
    "#### Sets\n",
    "In python, sets are a data structure equivlent to mathematical sets.  They are collecions of data points that do not allow for duplicate data and don't recognize indeces like a list or dictionary.  Sets are also mutable."
   ]
  },
  {
   "cell_type": "code",
   "execution_count": 256,
   "metadata": {},
   "outputs": [
    {
     "data": {
      "text/plain": [
       "{1, 2, 4, 14, 23, 52}"
      ]
     },
     "execution_count": 256,
     "metadata": {},
     "output_type": "execute_result"
    }
   ],
   "source": [
    "# define set variable\n",
    "dat = {2,4,14,1,23,52}\n",
    "dat"
   ]
  },
  {
   "cell_type": "code",
   "execution_count": 257,
   "metadata": {},
   "outputs": [
    {
     "data": {
      "text/plain": [
       "106"
      ]
     },
     "execution_count": 257,
     "metadata": {},
     "output_type": "execute_result"
    }
   ],
   "source": [
    "# summing the elements in a set\n",
    "sum(dat, 10)"
   ]
  },
  {
   "cell_type": "code",
   "execution_count": 258,
   "metadata": {},
   "outputs": [
    {
     "data": {
      "text/plain": [
       "False"
      ]
     },
     "execution_count": 258,
     "metadata": {},
     "output_type": "execute_result"
    }
   ],
   "source": [
    "# boolean tests and sets\n",
    "10 in dat"
   ]
  },
  {
   "cell_type": "code",
   "execution_count": 259,
   "metadata": {},
   "outputs": [
    {
     "data": {
      "text/plain": [
       "{1, 2, 4, 5, 14, 23, 52, 687}"
      ]
     },
     "execution_count": 259,
     "metadata": {},
     "output_type": "execute_result"
    }
   ],
   "source": [
    "# union operator\n",
    "dat | {5,687} "
   ]
  },
  {
   "cell_type": "code",
   "execution_count": 260,
   "metadata": {},
   "outputs": [
    {
     "data": {
      "text/plain": [
       "{52}"
      ]
     },
     "execution_count": 260,
     "metadata": {},
     "output_type": "execute_result"
    }
   ],
   "source": [
    "# intersection operator\n",
    "dat & {52, 687}"
   ]
  },
  {
   "cell_type": "markdown",
   "metadata": {},
   "source": [
    "After using the union operator ( | ) on dat, dat is not mutated.  The intersection operator ( & ) confirms.  Below are some methods for mutating sets."
   ]
  },
  {
   "cell_type": "code",
   "execution_count": 261,
   "metadata": {},
   "outputs": [
    {
     "data": {
      "text/plain": [
       "{687}"
      ]
     },
     "execution_count": 261,
     "metadata": {},
     "output_type": "execute_result"
    }
   ],
   "source": [
    "# methods for mutating\n",
    "dat.add(687)\n",
    "dat.remove(52)\n",
    "dat & {52, 687} # note: intersection operator DOES NOT MUTATE!"
   ]
  },
  {
   "cell_type": "code",
   "execution_count": 262,
   "metadata": {},
   "outputs": [
    {
     "data": {
      "text/plain": [
       "{1, 2, 4, 10, 14, 23, 54, 55, 92, 687, 828}"
      ]
     },
     "execution_count": 262,
     "metadata": {},
     "output_type": "execute_result"
    }
   ],
   "source": [
    "# .update() method uses union operator to mutate\n",
    "sat = {54, 828,92, 10, 55}\n",
    "dat.update(sat)\n",
    "dat"
   ]
  },
  {
   "cell_type": "code",
   "execution_count": 263,
   "metadata": {},
   "outputs": [
    {
     "data": {
      "text/plain": [
       "{10, 54, 55, 92, 828}"
      ]
     },
     "execution_count": 263,
     "metadata": {},
     "output_type": "execute_result"
    }
   ],
   "source": [
    "# .intersection_update() method uses intersection operator to mutate\n",
    "dat.intersection_update(sat)\n",
    "dat"
   ]
  },
  {
   "cell_type": "code",
   "execution_count": 265,
   "metadata": {},
   "outputs": [
    {
     "data": {
      "text/plain": [
       "{10, 54, 55, 92, 828}"
      ]
     },
     "execution_count": 265,
     "metadata": {},
     "output_type": "execute_result"
    }
   ],
   "source": [
    "# lets see what happens when you assign a new variable to the first\n",
    "gat = dat\n",
    "gat"
   ]
  },
  {
   "cell_type": "code",
   "execution_count": 266,
   "metadata": {},
   "outputs": [
    {
     "data": {
      "text/plain": [
       "{54, 55, 92, 828}"
      ]
     },
     "execution_count": 266,
     "metadata": {},
     "output_type": "execute_result"
    }
   ],
   "source": [
    "# Python will point to the same set \n",
    "gat.remove(10)\n",
    "dat"
   ]
  },
  {
   "cell_type": "code",
   "execution_count": 267,
   "metadata": {},
   "outputs": [
    {
     "name": "stdout",
     "output_type": "stream",
     "text": [
      "tat:{828, 10, 54, 55, 92}\n",
      "dat:{92, 54, 55, 828}\n"
     ]
    }
   ],
   "source": [
    "# to avoid mutating the same set you would use .copy()\n",
    "tat = dat.copy()\n",
    "tat.add(10)\n",
    "print('''tat:{}\n",
    "dat:{}'''.format(tat, dat))"
   ]
  },
  {
   "cell_type": "markdown",
   "metadata": {},
   "source": [
    "Set comprehensions are incredibly useful.  As you have seen earlier in the notes I have used list and conditional comprehension to create lists and execute functions."
   ]
  },
  {
   "cell_type": "code",
   "execution_count": 268,
   "metadata": {},
   "outputs": [
    {
     "data": {
      "text/plain": [
       "{1, 2, 4, 8}"
      ]
     },
     "execution_count": 268,
     "metadata": {},
     "output_type": "execute_result"
    }
   ],
   "source": [
    "# set comprehension, f(x) = 2^x\n",
    "yat = {2**x for x in {0,1,2,3}} \n",
    "yat"
   ]
  },
  {
   "cell_type": "code",
   "execution_count": 269,
   "metadata": {},
   "outputs": [
    {
     "data": {
      "text/plain": [
       "{0, 1, 4, 9, 16, 400}"
      ]
     },
     "execution_count": 269,
     "metadata": {},
     "output_type": "execute_result"
    }
   ],
   "source": [
    "# set comp works with operators\n",
    "qat = {x**2 for x in set(range(4)) | {4, 20}}\n",
    "qat"
   ]
  },
  {
   "cell_type": "code",
   "execution_count": 270,
   "metadata": {},
   "outputs": [
    {
     "data": {
      "text/plain": [
       "{8, 9, 10, 11, 12, 13}"
      ]
     },
     "execution_count": 270,
     "metadata": {},
     "output_type": "execute_result"
    }
   ],
   "source": [
    "# set comp can be stacked with conditional statement\n",
    "cat = {x+4 for x in set(range(5,10)) | {4, 30, 76} if x <= 10}\n",
    "cat"
   ]
  },
  {
   "cell_type": "code",
   "execution_count": 3,
   "metadata": {},
   "outputs": [
    {
     "data": {
      "text/plain": [
       "{3, 6, 12, 24, 48}"
      ]
     },
     "execution_count": 3,
     "metadata": {},
     "output_type": "execute_result"
    }
   ],
   "source": [
    "# Task 0.5.8 - create a set comprehension that prodces a 5-element set from two disjointed (non-overlapping) sets\n",
    "vat = {x*y for x in {1,2,4} for y in {3,6,12} if x != y}\n",
    "vat"
   ]
  },
  {
   "cell_type": "code",
   "execution_count": 272,
   "metadata": {},
   "outputs": [
    {
     "data": {
      "text/plain": [
       "{3, 4}"
      ]
     },
     "execution_count": 272,
     "metadata": {},
     "output_type": "execute_result"
    }
   ],
   "source": [
    "# Task 0.5.9 - use set comprehension in place of intersection operator\n",
    "s = set(range(1,5))\n",
    "t = set(range(3,7))\n",
    "s = {x for x in s for y in t if x==y} \n",
    "s"
   ]
  },
  {
   "cell_type": "code",
   "execution_count": 4,
   "metadata": {},
   "outputs": [
    {
     "data": {
      "text/plain": [
       "30.0"
      ]
     },
     "execution_count": 4,
     "metadata": {},
     "output_type": "execute_result"
    }
   ],
   "source": [
    "# Task 0.5.10 - write an expression that produces the average of a list\n",
    "lst = [20, 10, 15, 75]\n",
    "exp = sum(lst)/len(lst)\n",
    "exp"
   ]
  },
  {
   "cell_type": "code",
   "execution_count": 5,
   "metadata": {},
   "outputs": [
    {
     "data": {
      "text/plain": [
       "[['A', 1],\n",
       " ['A', 2],\n",
       " ['A', 3],\n",
       " ['B', 1],\n",
       " ['B', 2],\n",
       " ['B', 3],\n",
       " ['C', 1],\n",
       " ['C', 2],\n",
       " ['C', 3]]"
      ]
     },
     "execution_count": 5,
     "metadata": {},
     "output_type": "execute_result"
    }
   ],
   "source": [
    "# Task 0.5.11 - write a list comp that produces the cartesian product of ['A', 'B', 'C'] and [1, 2, 3]\n",
    "crtprd = [[x, y] for x in ['A', 'B', 'C'] for y in [1, 2, 3]]\n",
    "crtprd"
   ]
  },
  {
   "cell_type": "code",
   "execution_count": 10,
   "metadata": {},
   "outputs": [
    {
     "data": {
      "text/plain": [
       "16.1"
      ]
     },
     "execution_count": 10,
     "metadata": {},
     "output_type": "execute_result"
    }
   ],
   "source": [
    "# Task 0.5.12 - write a list comp that will sum every element in a list that contains sublists\n",
    "lst = [[.25, .75, .1], [-1, 0], [4,4,4,4]]\n",
    "exp = sum(sum(n) for n in lst)\n",
    "exp"
   ]
  },
  {
   "cell_type": "code",
   "execution_count": 20,
   "metadata": {},
   "outputs": [
    {
     "data": {
      "text/plain": [
       "[(0, 0, 0),\n",
       " (0, 1, 0),\n",
       " (0, 2, 0),\n",
       " (0, -1, 0),\n",
       " (0, -2, 0),\n",
       " (0, 0, 1),\n",
       " (0, 1, 1),\n",
       " (0, 2, 1),\n",
       " (0, -1, 1),\n",
       " (0, -2, 1),\n",
       " (0, 0, 2),\n",
       " (0, 1, 2),\n",
       " (0, 2, 2),\n",
       " (0, -1, 2),\n",
       " (0, -2, 2),\n",
       " (0, 0, -1),\n",
       " (0, 1, -1),\n",
       " (0, 2, -1),\n",
       " (0, -1, -1),\n",
       " (0, -2, -1),\n",
       " (0, 0, -2),\n",
       " (0, 1, -2),\n",
       " (0, 2, -2),\n",
       " (0, -1, -2),\n",
       " (0, -2, -2),\n",
       " (1, 0, 0),\n",
       " (1, 1, 0),\n",
       " (1, 2, 0),\n",
       " (1, -1, 0),\n",
       " (1, -2, 0),\n",
       " (1, 0, 1),\n",
       " (1, 1, 1),\n",
       " (1, 2, 1),\n",
       " (1, -1, 1),\n",
       " (1, -2, 1),\n",
       " (1, 0, 2),\n",
       " (1, 1, 2),\n",
       " (1, 2, 2),\n",
       " (1, -1, 2),\n",
       " (1, -2, 2),\n",
       " (1, 0, -1),\n",
       " (1, 1, -1),\n",
       " (1, 2, -1),\n",
       " (1, -1, -1),\n",
       " (1, -2, -1),\n",
       " (1, 0, -2),\n",
       " (1, 1, -2),\n",
       " (1, 2, -2),\n",
       " (1, -1, -2),\n",
       " (1, -2, -2),\n",
       " (2, 0, 0),\n",
       " (2, 1, 0),\n",
       " (2, 2, 0),\n",
       " (2, -1, 0),\n",
       " (2, -2, 0),\n",
       " (2, 0, 1),\n",
       " (2, 1, 1),\n",
       " (2, 2, 1),\n",
       " (2, -1, 1),\n",
       " (2, -2, 1),\n",
       " (2, 0, 2),\n",
       " (2, 1, 2),\n",
       " (2, 2, 2),\n",
       " (2, -1, 2),\n",
       " (2, -2, 2),\n",
       " (2, 0, -1),\n",
       " (2, 1, -1),\n",
       " (2, 2, -1),\n",
       " (2, -1, -1),\n",
       " (2, -2, -1),\n",
       " (2, 0, -2),\n",
       " (2, 1, -2),\n",
       " (2, 2, -2),\n",
       " (2, -1, -2),\n",
       " (2, -2, -2),\n",
       " (-1, 0, 0),\n",
       " (-1, 1, 0),\n",
       " (-1, 2, 0),\n",
       " (-1, -1, 0),\n",
       " (-1, -2, 0),\n",
       " (-1, 0, 1),\n",
       " (-1, 1, 1),\n",
       " (-1, 2, 1),\n",
       " (-1, -1, 1),\n",
       " (-1, -2, 1),\n",
       " (-1, 0, 2),\n",
       " (-1, 1, 2),\n",
       " (-1, 2, 2),\n",
       " (-1, -1, 2),\n",
       " (-1, -2, 2),\n",
       " (-1, 0, -1),\n",
       " (-1, 1, -1),\n",
       " (-1, 2, -1),\n",
       " (-1, -1, -1),\n",
       " (-1, -2, -1),\n",
       " (-1, 0, -2),\n",
       " (-1, 1, -2),\n",
       " (-1, 2, -2),\n",
       " (-1, -1, -2),\n",
       " (-1, -2, -2),\n",
       " (-2, 0, 0),\n",
       " (-2, 1, 0),\n",
       " (-2, 2, 0),\n",
       " (-2, -1, 0),\n",
       " (-2, -2, 0),\n",
       " (-2, 0, 1),\n",
       " (-2, 1, 1),\n",
       " (-2, 2, 1),\n",
       " (-2, -1, 1),\n",
       " (-2, -2, 1),\n",
       " (-2, 0, 2),\n",
       " (-2, 1, 2),\n",
       " (-2, 2, 2),\n",
       " (-2, -1, 2),\n",
       " (-2, -2, 2),\n",
       " (-2, 0, -1),\n",
       " (-2, 1, -1),\n",
       " (-2, 2, -1),\n",
       " (-2, -1, -1),\n",
       " (-2, -2, -1),\n",
       " (-2, 0, -2),\n",
       " (-2, 1, -2),\n",
       " (-2, 2, -2),\n",
       " (-2, -1, -2),\n",
       " (-2, -2, -2)]"
      ]
     },
     "execution_count": 20,
     "metadata": {},
     "output_type": "execute_result"
    }
   ],
   "source": [
    "# Task 0.5.14 - write a comp that produces all 3-element tuples of sum zero, integers come from set\n",
    "s = set(range(-2, 3))\n",
    "exp = list((i, j, k) for i in s for k in s for j in s)\n",
    "exp"
   ]
  },
  {
   "cell_type": "code",
   "execution_count": 21,
   "metadata": {},
   "outputs": [
    {
     "data": {
      "text/plain": [
       "[(0, 1, 0),\n",
       " (0, 2, 0),\n",
       " (0, -1, 0),\n",
       " (0, -2, 0),\n",
       " (0, 0, 1),\n",
       " (0, 1, 1),\n",
       " (0, 2, 1),\n",
       " (0, -1, 1),\n",
       " (0, -2, 1),\n",
       " (0, 0, 2),\n",
       " (0, 1, 2),\n",
       " (0, 2, 2),\n",
       " (0, -1, 2),\n",
       " (0, -2, 2),\n",
       " (0, 0, -1),\n",
       " (0, 1, -1),\n",
       " (0, 2, -1),\n",
       " (0, -1, -1),\n",
       " (0, -2, -1),\n",
       " (0, 0, -2),\n",
       " (0, 1, -2),\n",
       " (0, 2, -2),\n",
       " (0, -1, -2),\n",
       " (0, -2, -2),\n",
       " (1, 0, 0),\n",
       " (1, 1, 0),\n",
       " (1, 2, 0),\n",
       " (1, -1, 0),\n",
       " (1, -2, 0),\n",
       " (1, 0, 1),\n",
       " (1, 1, 1),\n",
       " (1, 2, 1),\n",
       " (1, -1, 1),\n",
       " (1, -2, 1),\n",
       " (1, 0, 2),\n",
       " (1, 1, 2),\n",
       " (1, 2, 2),\n",
       " (1, -1, 2),\n",
       " (1, -2, 2),\n",
       " (1, 0, -1),\n",
       " (1, 1, -1),\n",
       " (1, 2, -1),\n",
       " (1, -1, -1),\n",
       " (1, -2, -1),\n",
       " (1, 0, -2),\n",
       " (1, 1, -2),\n",
       " (1, 2, -2),\n",
       " (1, -1, -2),\n",
       " (1, -2, -2),\n",
       " (2, 0, 0),\n",
       " (2, 1, 0),\n",
       " (2, 2, 0),\n",
       " (2, -1, 0),\n",
       " (2, -2, 0),\n",
       " (2, 0, 1),\n",
       " (2, 1, 1),\n",
       " (2, 2, 1),\n",
       " (2, -1, 1),\n",
       " (2, -2, 1),\n",
       " (2, 0, 2),\n",
       " (2, 1, 2),\n",
       " (2, 2, 2),\n",
       " (2, -1, 2),\n",
       " (2, -2, 2),\n",
       " (2, 0, -1),\n",
       " (2, 1, -1),\n",
       " (2, 2, -1),\n",
       " (2, -1, -1),\n",
       " (2, -2, -1),\n",
       " (2, 0, -2),\n",
       " (2, 1, -2),\n",
       " (2, 2, -2),\n",
       " (2, -1, -2),\n",
       " (2, -2, -2),\n",
       " (-1, 0, 0),\n",
       " (-1, 1, 0),\n",
       " (-1, 2, 0),\n",
       " (-1, -1, 0),\n",
       " (-1, -2, 0),\n",
       " (-1, 0, 1),\n",
       " (-1, 1, 1),\n",
       " (-1, 2, 1),\n",
       " (-1, -1, 1),\n",
       " (-1, -2, 1),\n",
       " (-1, 0, 2),\n",
       " (-1, 1, 2),\n",
       " (-1, 2, 2),\n",
       " (-1, -1, 2),\n",
       " (-1, -2, 2),\n",
       " (-1, 0, -1),\n",
       " (-1, 1, -1),\n",
       " (-1, 2, -1),\n",
       " (-1, -1, -1),\n",
       " (-1, -2, -1),\n",
       " (-1, 0, -2),\n",
       " (-1, 1, -2),\n",
       " (-1, 2, -2),\n",
       " (-1, -1, -2),\n",
       " (-1, -2, -2),\n",
       " (-2, 0, 0),\n",
       " (-2, 1, 0),\n",
       " (-2, 2, 0),\n",
       " (-2, -1, 0),\n",
       " (-2, -2, 0),\n",
       " (-2, 0, 1),\n",
       " (-2, 1, 1),\n",
       " (-2, 2, 1),\n",
       " (-2, -1, 1),\n",
       " (-2, -2, 1),\n",
       " (-2, 0, 2),\n",
       " (-2, 1, 2),\n",
       " (-2, 2, 2),\n",
       " (-2, -1, 2),\n",
       " (-2, -2, 2),\n",
       " (-2, 0, -1),\n",
       " (-2, 1, -1),\n",
       " (-2, 2, -1),\n",
       " (-2, -1, -1),\n",
       " (-2, -2, -1),\n",
       " (-2, 0, -2),\n",
       " (-2, 1, -2),\n",
       " (-2, 2, -2),\n",
       " (-2, -1, -2),\n",
       " (-2, -2, -2)]"
      ]
     },
     "execution_count": 21,
     "metadata": {},
     "output_type": "execute_result"
    }
   ],
   "source": [
    "# Task 0.5.15 - modify the previous script to exclude (0,0,0)\n",
    "s = set(range(-2, 3))\n",
    "exp = list((i, j, k) for i in s for k in s for j in s if (i, j, k)!=(0,0,0))\n",
    "exp"
   ]
  },
  {
   "cell_type": "code",
   "execution_count": 23,
   "metadata": {},
   "outputs": [
    {
     "data": {
      "text/plain": [
       "(0, 0, 0)"
      ]
     },
     "execution_count": 23,
     "metadata": {},
     "output_type": "execute_result"
    }
   ],
   "source": [
    "# Task 0.5.16 - modify previous to omit all tuples except the first\n",
    "s = set(range(-2, 3))\n",
    "exp = list((i, j, k) for i in s for k in s for j in s)[0]\n",
    "exp"
   ]
  },
  {
   "cell_type": "code",
   "execution_count": 26,
   "metadata": {},
   "outputs": [
    {
     "data": {
      "text/plain": [
       "{1,\n",
       " 3,\n",
       " 5,\n",
       " 7,\n",
       " 9,\n",
       " 11,\n",
       " 13,\n",
       " 15,\n",
       " 17,\n",
       " 19,\n",
       " 21,\n",
       " 23,\n",
       " 25,\n",
       " 27,\n",
       " 29,\n",
       " 31,\n",
       " 33,\n",
       " 35,\n",
       " 37,\n",
       " 39,\n",
       " 41,\n",
       " 43,\n",
       " 45,\n",
       " 47,\n",
       " 49,\n",
       " 51,\n",
       " 53,\n",
       " 55,\n",
       " 57,\n",
       " 59,\n",
       " 61,\n",
       " 63,\n",
       " 65,\n",
       " 67,\n",
       " 69,\n",
       " 71,\n",
       " 73,\n",
       " 75,\n",
       " 77,\n",
       " 79,\n",
       " 81,\n",
       " 83,\n",
       " 85,\n",
       " 87,\n",
       " 89,\n",
       " 91,\n",
       " 93,\n",
       " 95,\n",
       " 97,\n",
       " 99}"
      ]
     },
     "execution_count": 26,
     "metadata": {},
     "output_type": "execute_result"
    }
   ],
   "source": [
    "# Task 0.5.18 - writ a comp that will produce all odd numbers between 1 and 99\n",
    "exp = {x for x in range(1,100) if x%2 != 0}\n",
    "exp"
   ]
  },
  {
   "cell_type": "code",
   "execution_count": 28,
   "metadata": {},
   "outputs": [
    {
     "data": {
      "text/plain": [
       "[(0, 'A'), (1, 'B'), (2, 'C'), (3, 'D'), (4, 'E')]"
      ]
     },
     "execution_count": 28,
     "metadata": {},
     "output_type": "execute_result"
    }
   ],
   "source": [
    "# Task 0.5.19 - write a script that will pair list index with list element in a list of tuples\n",
    "l = ['A', 'B', 'C', 'D', 'E']\n",
    "exp = list(zip(range(len(l)), l))\n",
    "exp"
   ]
  },
  {
   "cell_type": "code",
   "execution_count": 37,
   "metadata": {},
   "outputs": [
    {
     "data": {
      "text/plain": [
       "[[11], [40], [60]]"
      ]
     },
     "execution_count": 37,
     "metadata": {},
     "output_type": "execute_result"
    }
   ],
   "source": [
    "# Task 0.5.20 --> [x[n] + y[n]], where x and y are lists and n is the index\n",
    "\n",
    "ans = [[x+y] for [x,y] in zip([10, 25,40], [1, 15, 20])]\n",
    "ans"
   ]
  },
  {
   "cell_type": "code",
   "execution_count": 43,
   "metadata": {},
   "outputs": [
    {
     "data": {
      "text/plain": [
       "[[60], [40], [11]]"
      ]
     },
     "execution_count": 43,
     "metadata": {},
     "output_type": "execute_result"
    }
   ],
   "source": [
    "# reversed method\n",
    "rev = list(reversed(ans))\n",
    "rev"
   ]
  },
  {
   "cell_type": "code",
   "execution_count": 69,
   "metadata": {},
   "outputs": [
    {
     "data": {
      "text/plain": [
       "['Sean', 'Roger', 'Pierce']"
      ]
     },
     "execution_count": 69,
     "metadata": {},
     "output_type": "execute_result"
    }
   ],
   "source": [
    "# 0.5.21 - write script \n",
    "dlist =[{'James':'Sean', 'director':'Terence'}, {'James':'Roger', 'director':'Lewis'}, {'James':'Pierce', 'director':'Roger'}]\n",
    "k = 'James'\n",
    "exp = [d[k] for d in dlist]\n",
    "exp"
   ]
  },
  {
   "cell_type": "code",
   "execution_count": 1,
   "metadata": {},
   "outputs": [
    {
     "data": {
      "text/plain": [
       "['Ian', 'Martin']"
      ]
     },
     "execution_count": 1,
     "metadata": {},
     "output_type": "execute_result"
    }
   ],
   "source": [
    "# 0.5.22 - ]\n",
    "dlist = [{'Bilbo':'Ian', 'Frodo':'Elijah'}, {'Bilbo':'Martin', 'Thorin':'Richard'}]\n",
    "k = 'Bilbo'\n",
    "exp = [d[k] for d in dlist if k in d]\n",
    "exp"
   ]
  },
  {
   "cell_type": "code",
   "execution_count": 108,
   "metadata": {},
   "outputs": [
    {
     "data": {
      "text/plain": [
       "['Elijah']"
      ]
     },
     "execution_count": 108,
     "metadata": {},
     "output_type": "execute_result"
    }
   ],
   "source": [
    "# 0.5.22 - ]\n",
    "dlist = [{'Bilbo':'Ian', 'Frodo':'Elijah'}, {'Bilbo':'Martin', 'Thorin':'Richard'}]\n",
    "k = 'Frodo'\n",
    "exp = list(d[k] for d in dlist if k in d)\n",
    "exp"
   ]
  },
  {
   "cell_type": "code",
   "execution_count": 111,
   "metadata": {},
   "outputs": [],
   "source": [
    "# 0.5.23 - create a dictionary that is x:x**2 for 0 to 99\n",
    "exp = {x:x**2 for x in range(100)}"
   ]
  },
  {
   "cell_type": "code",
   "execution_count": 116,
   "metadata": {},
   "outputs": [
    {
     "data": {
      "text/plain": [
       "{'white': 140056408303184, 'red': 140056545244248, 'blue': 140056408260088}"
      ]
     },
     "execution_count": 116,
     "metadata": {},
     "output_type": "execute_result"
    }
   ],
   "source": [
    "# 0.5.24 - create set of strings and map to dictionary where value is id()\n",
    "d = {'red', 'white', 'blue'}\n",
    "exp = {x:id(x) for x in d}\n",
    "exp"
   ]
  },
  {
   "cell_type": "code",
   "execution_count": 17,
   "metadata": {},
   "outputs": [
    {
     "data": {
      "text/plain": [
       "[8, 9, 3, 2]"
      ]
     },
     "execution_count": 17,
     "metadata": {},
     "output_type": "execute_result"
    }
   ],
   "source": [
    "# 0.5.25\n",
    "base = 10\n",
    "digits = list(range(base))\n",
    "exp = {x:[x//base//base//base%base, x//base//base%base, x//base%base, x%base] for x in range(base**4)}\n",
    "exp[8932]"
   ]
  },
  {
   "cell_type": "code",
   "execution_count": 127,
   "metadata": {},
   "outputs": [
    {
     "data": {
      "text/plain": [
       "{'larry': 1200, 'joe': 1200, 'curly': 1200}"
      ]
     },
     "execution_count": 127,
     "metadata": {},
     "output_type": "execute_result"
    }
   ],
   "source": [
    "# 0.5.26\n",
    "id2salary = {0:1000, 3:990, 1:1200}\n",
    "names = ['larry', 'curly', '', 'joe']\n",
    "exp = {names[n]:x for n in id2salary.keys() for x in id2salary.values()}\n",
    "exp"
   ]
  },
  {
   "cell_type": "code",
   "execution_count": 136,
   "metadata": {},
   "outputs": [
    {
     "data": {
      "text/plain": [
       "[2, 3, 4]"
      ]
     },
     "execution_count": 136,
     "metadata": {},
     "output_type": "execute_result"
    }
   ],
   "source": [
    "#0.5.28\n",
    "nextInts = lambda L : L+1 \n",
    "list(map(nextInts,[1,2,3]))"
   ]
  },
  {
   "cell_type": "code",
   "execution_count": 137,
   "metadata": {},
   "outputs": [
    {
     "data": {
      "text/plain": [
       "[1, 8, 27]"
      ]
     },
     "execution_count": 137,
     "metadata": {},
     "output_type": "execute_result"
    }
   ],
   "source": [
    "#0.5.29\n",
    "cubes = lambda L : L**3\n",
    "list(map(cubes, [1,2,3]))"
   ]
  },
  {
   "cell_type": "code",
   "execution_count": 142,
   "metadata": {},
   "outputs": [
    {
     "data": {
      "text/plain": [
       "['B', 'C', 'A']"
      ]
     },
     "execution_count": 142,
     "metadata": {},
     "output_type": "execute_result"
    }
   ],
   "source": [
    "#0.5.30\n",
    "def dict2list(dct, klist): return [dct[k] for k in klist]\n",
    "dict2list({'a':'A', 'b':'B', 'c':'C'}, ['b', 'c', 'a'])"
   ]
  },
  {
   "cell_type": "code",
   "execution_count": 144,
   "metadata": {},
   "outputs": [
    {
     "data": {
      "text/plain": [
       "{'a': 'A', 'b': 'B', 'c': 'C'}"
      ]
     },
     "execution_count": 144,
     "metadata": {},
     "output_type": "execute_result"
    }
   ],
   "source": [
    "# 0.5.31\n",
    "def list2dic(lst, klist): return {k:l for (k, l) in zip(klist, lst)}\n",
    "list2dic(['A', 'B', 'C'], ['a', 'b', 'c'])"
   ]
  },
  {
   "cell_type": "code",
   "execution_count": 12,
   "metadata": {},
   "outputs": [
    {
     "data": {
      "text/plain": [
       "[0,\n",
       " 1,\n",
       " 2,\n",
       " 3,\n",
       " 4,\n",
       " 5,\n",
       " 6,\n",
       " 7,\n",
       " 8,\n",
       " 9,\n",
       " 10,\n",
       " 11,\n",
       " 12,\n",
       " 13,\n",
       " 14,\n",
       " 15,\n",
       " 16,\n",
       " 17,\n",
       " 18,\n",
       " 19,\n",
       " 20,\n",
       " 21,\n",
       " 22,\n",
       " 23,\n",
       " 24,\n",
       " 25,\n",
       " 26,\n",
       " 27,\n",
       " 28,\n",
       " 29,\n",
       " 30,\n",
       " 31,\n",
       " 32,\n",
       " 33,\n",
       " 34,\n",
       " 35,\n",
       " 36,\n",
       " 37,\n",
       " 38,\n",
       " 39,\n",
       " 40,\n",
       " 41,\n",
       " 42,\n",
       " 43,\n",
       " 44,\n",
       " 45,\n",
       " 46,\n",
       " 47,\n",
       " 48,\n",
       " 49,\n",
       " 50,\n",
       " 51,\n",
       " 52,\n",
       " 53,\n",
       " 54,\n",
       " 55,\n",
       " 56,\n",
       " 57,\n",
       " 58,\n",
       " 59,\n",
       " 60,\n",
       " 61,\n",
       " 62,\n",
       " 63,\n",
       " 64,\n",
       " 65,\n",
       " 66,\n",
       " 67,\n",
       " 68,\n",
       " 69,\n",
       " 70,\n",
       " 71,\n",
       " 72,\n",
       " 73,\n",
       " 74,\n",
       " 75,\n",
       " 76,\n",
       " 77,\n",
       " 78,\n",
       " 79,\n",
       " 80,\n",
       " 81,\n",
       " 82,\n",
       " 83,\n",
       " 84,\n",
       " 85,\n",
       " 86,\n",
       " 87,\n",
       " 88,\n",
       " 89,\n",
       " 90,\n",
       " 91,\n",
       " 92,\n",
       " 93,\n",
       " 94,\n",
       " 95,\n",
       " 96,\n",
       " 97,\n",
       " 98,\n",
       " 99,\n",
       " 100,\n",
       " 101,\n",
       " 102,\n",
       " 103,\n",
       " 104,\n",
       " 105,\n",
       " 106,\n",
       " 107,\n",
       " 108,\n",
       " 109,\n",
       " 110,\n",
       " 111,\n",
       " 112,\n",
       " 113,\n",
       " 114,\n",
       " 115,\n",
       " 116,\n",
       " 117,\n",
       " 118,\n",
       " 119,\n",
       " 120,\n",
       " 121,\n",
       " 122,\n",
       " 123,\n",
       " 124,\n",
       " 125,\n",
       " 126,\n",
       " 127,\n",
       " 128,\n",
       " 129,\n",
       " 130,\n",
       " 131,\n",
       " 132,\n",
       " 133,\n",
       " 134,\n",
       " 135,\n",
       " 136,\n",
       " 137,\n",
       " 138,\n",
       " 139,\n",
       " 140,\n",
       " 141,\n",
       " 142,\n",
       " 143,\n",
       " 144,\n",
       " 145,\n",
       " 146,\n",
       " 147,\n",
       " 148,\n",
       " 149,\n",
       " 150,\n",
       " 151,\n",
       " 152,\n",
       " 153,\n",
       " 154,\n",
       " 155,\n",
       " 156,\n",
       " 157,\n",
       " 158,\n",
       " 159,\n",
       " 160,\n",
       " 161,\n",
       " 162,\n",
       " 163,\n",
       " 164,\n",
       " 165,\n",
       " 166,\n",
       " 167,\n",
       " 168,\n",
       " 169,\n",
       " 170,\n",
       " 171,\n",
       " 172,\n",
       " 173,\n",
       " 174,\n",
       " 175,\n",
       " 176,\n",
       " 177,\n",
       " 178,\n",
       " 179,\n",
       " 180,\n",
       " 181,\n",
       " 182,\n",
       " 183,\n",
       " 184,\n",
       " 185,\n",
       " 186,\n",
       " 187,\n",
       " 188,\n",
       " 189,\n",
       " 190,\n",
       " 191,\n",
       " 192,\n",
       " 193,\n",
       " 194,\n",
       " 195,\n",
       " 196,\n",
       " 197,\n",
       " 198,\n",
       " 199,\n",
       " 200,\n",
       " 201,\n",
       " 202,\n",
       " 203,\n",
       " 204,\n",
       " 205,\n",
       " 206,\n",
       " 207,\n",
       " 208,\n",
       " 209,\n",
       " 210,\n",
       " 211,\n",
       " 212,\n",
       " 213,\n",
       " 214,\n",
       " 215,\n",
       " 216,\n",
       " 217,\n",
       " 218,\n",
       " 219,\n",
       " 220,\n",
       " 221,\n",
       " 222,\n",
       " 223,\n",
       " 224,\n",
       " 225,\n",
       " 226,\n",
       " 227,\n",
       " 228,\n",
       " 229,\n",
       " 230,\n",
       " 231,\n",
       " 232,\n",
       " 233,\n",
       " 234,\n",
       " 235,\n",
       " 236,\n",
       " 237,\n",
       " 238,\n",
       " 239,\n",
       " 240,\n",
       " 241,\n",
       " 242,\n",
       " 243,\n",
       " 244,\n",
       " 245,\n",
       " 246,\n",
       " 247,\n",
       " 248,\n",
       " 249,\n",
       " 250,\n",
       " 251,\n",
       " 252,\n",
       " 253,\n",
       " 254,\n",
       " 255,\n",
       " 256,\n",
       " 257,\n",
       " 258,\n",
       " 259,\n",
       " 260,\n",
       " 261,\n",
       " 262,\n",
       " 263,\n",
       " 264,\n",
       " 265,\n",
       " 266,\n",
       " 267,\n",
       " 268,\n",
       " 269,\n",
       " 270,\n",
       " 271,\n",
       " 272,\n",
       " 273,\n",
       " 274,\n",
       " 275,\n",
       " 276,\n",
       " 277,\n",
       " 278,\n",
       " 279,\n",
       " 280,\n",
       " 281,\n",
       " 282,\n",
       " 283,\n",
       " 284,\n",
       " 285,\n",
       " 286,\n",
       " 287,\n",
       " 288,\n",
       " 289,\n",
       " 290,\n",
       " 291,\n",
       " 292,\n",
       " 293,\n",
       " 294,\n",
       " 295,\n",
       " 296,\n",
       " 297,\n",
       " 298,\n",
       " 299,\n",
       " 300,\n",
       " 301,\n",
       " 302,\n",
       " 303,\n",
       " 304,\n",
       " 305,\n",
       " 306,\n",
       " 307,\n",
       " 308,\n",
       " 309,\n",
       " 310,\n",
       " 311,\n",
       " 312,\n",
       " 313,\n",
       " 314,\n",
       " 315,\n",
       " 316,\n",
       " 317,\n",
       " 318,\n",
       " 319,\n",
       " 320,\n",
       " 321,\n",
       " 322,\n",
       " 323,\n",
       " 324,\n",
       " 325,\n",
       " 326,\n",
       " 327,\n",
       " 328,\n",
       " 329,\n",
       " 330,\n",
       " 331,\n",
       " 332,\n",
       " 333,\n",
       " 334,\n",
       " 335,\n",
       " 336,\n",
       " 337,\n",
       " 338,\n",
       " 339,\n",
       " 340,\n",
       " 341,\n",
       " 342,\n",
       " 343,\n",
       " 344,\n",
       " 345,\n",
       " 346,\n",
       " 347,\n",
       " 348,\n",
       " 349,\n",
       " 350,\n",
       " 351,\n",
       " 352,\n",
       " 353,\n",
       " 354,\n",
       " 355,\n",
       " 356,\n",
       " 357,\n",
       " 358,\n",
       " 359,\n",
       " 360,\n",
       " 361,\n",
       " 362,\n",
       " 363,\n",
       " 364,\n",
       " 365,\n",
       " 366,\n",
       " 367,\n",
       " 368,\n",
       " 369,\n",
       " 370,\n",
       " 371,\n",
       " 372,\n",
       " 373,\n",
       " 374,\n",
       " 375,\n",
       " 376,\n",
       " 377,\n",
       " 378,\n",
       " 379,\n",
       " 380,\n",
       " 381,\n",
       " 382,\n",
       " 383,\n",
       " 384,\n",
       " 385,\n",
       " 386,\n",
       " 387,\n",
       " 388,\n",
       " 389,\n",
       " 390,\n",
       " 391,\n",
       " 392,\n",
       " 393,\n",
       " 394,\n",
       " 395,\n",
       " 396,\n",
       " 397,\n",
       " 398,\n",
       " 399,\n",
       " 400,\n",
       " 401,\n",
       " 402,\n",
       " 403,\n",
       " 404,\n",
       " 405,\n",
       " 406,\n",
       " 407,\n",
       " 408,\n",
       " 409,\n",
       " 410,\n",
       " 411,\n",
       " 412,\n",
       " 413,\n",
       " 414,\n",
       " 415,\n",
       " 416,\n",
       " 417,\n",
       " 418,\n",
       " 419,\n",
       " 420,\n",
       " 421,\n",
       " 422,\n",
       " 423,\n",
       " 424,\n",
       " 425,\n",
       " 426,\n",
       " 427,\n",
       " 428,\n",
       " 429,\n",
       " 430,\n",
       " 431,\n",
       " 432,\n",
       " 433,\n",
       " 434,\n",
       " 435,\n",
       " 436,\n",
       " 437,\n",
       " 438,\n",
       " 439,\n",
       " 440,\n",
       " 441,\n",
       " 442,\n",
       " 443,\n",
       " 444,\n",
       " 445,\n",
       " 446,\n",
       " 447,\n",
       " 448,\n",
       " 449,\n",
       " 450,\n",
       " 451,\n",
       " 452,\n",
       " 453,\n",
       " 454,\n",
       " 455,\n",
       " 456,\n",
       " 457,\n",
       " 458,\n",
       " 459,\n",
       " 460,\n",
       " 461,\n",
       " 462,\n",
       " 463,\n",
       " 464,\n",
       " 465,\n",
       " 466,\n",
       " 467,\n",
       " 468,\n",
       " 469,\n",
       " 470,\n",
       " 471,\n",
       " 472,\n",
       " 473,\n",
       " 474,\n",
       " 475,\n",
       " 476,\n",
       " 477,\n",
       " 478,\n",
       " 479,\n",
       " 480,\n",
       " 481,\n",
       " 482,\n",
       " 483,\n",
       " 484,\n",
       " 485,\n",
       " 486,\n",
       " 487,\n",
       " 488,\n",
       " 489,\n",
       " 490,\n",
       " 491,\n",
       " 492,\n",
       " 493,\n",
       " 494,\n",
       " 495,\n",
       " 496,\n",
       " 497,\n",
       " 498,\n",
       " 499,\n",
       " 500,\n",
       " 501,\n",
       " 502,\n",
       " 503,\n",
       " 504,\n",
       " 505,\n",
       " 506,\n",
       " 507,\n",
       " 508,\n",
       " 509,\n",
       " 510,\n",
       " 511,\n",
       " 512,\n",
       " 513,\n",
       " 514,\n",
       " 515,\n",
       " 516,\n",
       " 517,\n",
       " 518,\n",
       " 519,\n",
       " 520,\n",
       " 521,\n",
       " 522,\n",
       " 523,\n",
       " 524,\n",
       " 525,\n",
       " 526,\n",
       " 527,\n",
       " 528,\n",
       " 529,\n",
       " 530,\n",
       " 531,\n",
       " 532,\n",
       " 533,\n",
       " 534,\n",
       " 535,\n",
       " 536,\n",
       " 537,\n",
       " 538,\n",
       " 539,\n",
       " 540,\n",
       " 541,\n",
       " 542,\n",
       " 543,\n",
       " 544,\n",
       " 545,\n",
       " 546,\n",
       " 547,\n",
       " 548,\n",
       " 549,\n",
       " 550,\n",
       " 551,\n",
       " 552,\n",
       " 553,\n",
       " 554,\n",
       " 555,\n",
       " 556,\n",
       " 557,\n",
       " 558,\n",
       " 559,\n",
       " 560,\n",
       " 561,\n",
       " 562,\n",
       " 563,\n",
       " 564,\n",
       " 565,\n",
       " 566,\n",
       " 567,\n",
       " 568,\n",
       " 569,\n",
       " 570,\n",
       " 571,\n",
       " 572,\n",
       " 573,\n",
       " 574,\n",
       " 575,\n",
       " 576,\n",
       " 577,\n",
       " 578,\n",
       " 579,\n",
       " 580,\n",
       " 581,\n",
       " 582,\n",
       " 583,\n",
       " 584,\n",
       " 585,\n",
       " 586,\n",
       " 587,\n",
       " 588,\n",
       " 589,\n",
       " 590,\n",
       " 591,\n",
       " 592,\n",
       " 593,\n",
       " 594,\n",
       " 595,\n",
       " 596,\n",
       " 597,\n",
       " 598,\n",
       " 599,\n",
       " 600,\n",
       " 601,\n",
       " 602,\n",
       " 603,\n",
       " 604,\n",
       " 605,\n",
       " 606,\n",
       " 607,\n",
       " 608,\n",
       " 609,\n",
       " 610,\n",
       " 611,\n",
       " 612,\n",
       " 613,\n",
       " 614,\n",
       " 615,\n",
       " 616,\n",
       " 617,\n",
       " 618,\n",
       " 619,\n",
       " 620,\n",
       " 621,\n",
       " 622,\n",
       " 623,\n",
       " 624,\n",
       " 625,\n",
       " 626,\n",
       " 627,\n",
       " 628,\n",
       " 629,\n",
       " 630,\n",
       " 631,\n",
       " 632,\n",
       " 633,\n",
       " 634,\n",
       " 635,\n",
       " 636,\n",
       " 637,\n",
       " 638,\n",
       " 639,\n",
       " 640,\n",
       " 641,\n",
       " 642,\n",
       " 643,\n",
       " 644,\n",
       " 645,\n",
       " 646,\n",
       " 647,\n",
       " 648,\n",
       " 649,\n",
       " 650,\n",
       " 651,\n",
       " 652,\n",
       " 653,\n",
       " 654,\n",
       " 655,\n",
       " 656,\n",
       " 657,\n",
       " 658,\n",
       " 659,\n",
       " 660,\n",
       " 661,\n",
       " 662,\n",
       " 663,\n",
       " 664,\n",
       " 665,\n",
       " 666,\n",
       " 667,\n",
       " 668,\n",
       " 669,\n",
       " 670,\n",
       " 671,\n",
       " 672,\n",
       " 673,\n",
       " 674,\n",
       " 675,\n",
       " 676,\n",
       " 677,\n",
       " 678,\n",
       " 679,\n",
       " 680,\n",
       " 681,\n",
       " 682,\n",
       " 683,\n",
       " 684,\n",
       " 685,\n",
       " 686,\n",
       " 687,\n",
       " 688,\n",
       " 689,\n",
       " 690,\n",
       " 691,\n",
       " 692,\n",
       " 693,\n",
       " 694,\n",
       " 695,\n",
       " 696,\n",
       " 697,\n",
       " 698,\n",
       " 699,\n",
       " 700,\n",
       " 701,\n",
       " 702,\n",
       " 703,\n",
       " 704,\n",
       " 705,\n",
       " 706,\n",
       " 707,\n",
       " 708,\n",
       " 709,\n",
       " 710,\n",
       " 711,\n",
       " 712,\n",
       " 713,\n",
       " 714,\n",
       " 715,\n",
       " 716,\n",
       " 717,\n",
       " 718,\n",
       " 719,\n",
       " 720,\n",
       " 721,\n",
       " 722,\n",
       " 723,\n",
       " 724,\n",
       " 725,\n",
       " 726,\n",
       " 727,\n",
       " 728,\n",
       " 729,\n",
       " 730,\n",
       " 731,\n",
       " 732,\n",
       " 733,\n",
       " 734,\n",
       " 735,\n",
       " 736,\n",
       " 737,\n",
       " 738,\n",
       " 739,\n",
       " 740,\n",
       " 741,\n",
       " 742,\n",
       " 743,\n",
       " 744,\n",
       " 745,\n",
       " 746,\n",
       " 747,\n",
       " 748,\n",
       " 749,\n",
       " 750,\n",
       " 751,\n",
       " 752,\n",
       " 753,\n",
       " 754,\n",
       " 755,\n",
       " 756,\n",
       " 757,\n",
       " 758,\n",
       " 759,\n",
       " 760,\n",
       " 761,\n",
       " 762,\n",
       " 763,\n",
       " 764,\n",
       " 765,\n",
       " 766,\n",
       " 767,\n",
       " 768,\n",
       " 769,\n",
       " 770,\n",
       " 771,\n",
       " 772,\n",
       " 773,\n",
       " 774,\n",
       " 775,\n",
       " 776,\n",
       " 777,\n",
       " 778,\n",
       " 779,\n",
       " 780,\n",
       " 781,\n",
       " 782,\n",
       " 783,\n",
       " 784,\n",
       " 785,\n",
       " 786,\n",
       " 787,\n",
       " 788,\n",
       " 789,\n",
       " 790,\n",
       " 791,\n",
       " 792,\n",
       " 793,\n",
       " 794,\n",
       " 795,\n",
       " 796,\n",
       " 797,\n",
       " 798,\n",
       " 799,\n",
       " 800,\n",
       " 801,\n",
       " 802,\n",
       " 803,\n",
       " 804,\n",
       " 805,\n",
       " 806,\n",
       " 807,\n",
       " 808,\n",
       " 809,\n",
       " 810,\n",
       " 811,\n",
       " 812,\n",
       " 813,\n",
       " 814,\n",
       " 815,\n",
       " 816,\n",
       " 817,\n",
       " 818,\n",
       " 819,\n",
       " 820,\n",
       " 821,\n",
       " 822,\n",
       " 823,\n",
       " 824,\n",
       " 825,\n",
       " 826,\n",
       " 827,\n",
       " 828,\n",
       " 829,\n",
       " 830,\n",
       " 831,\n",
       " 832,\n",
       " 833,\n",
       " 834,\n",
       " 835,\n",
       " 836,\n",
       " 837,\n",
       " 838,\n",
       " 839,\n",
       " 840,\n",
       " 841,\n",
       " 842,\n",
       " 843,\n",
       " 844,\n",
       " 845,\n",
       " 846,\n",
       " 847,\n",
       " 848,\n",
       " 849,\n",
       " 850,\n",
       " 851,\n",
       " 852,\n",
       " 853,\n",
       " 854,\n",
       " 855,\n",
       " 856,\n",
       " 857,\n",
       " 858,\n",
       " 859,\n",
       " 860,\n",
       " 861,\n",
       " 862,\n",
       " 863,\n",
       " 864,\n",
       " 865,\n",
       " 866,\n",
       " 867,\n",
       " 868,\n",
       " 869,\n",
       " 870,\n",
       " 871,\n",
       " 872,\n",
       " 873,\n",
       " 874,\n",
       " 875,\n",
       " 876,\n",
       " 877,\n",
       " 878,\n",
       " 879,\n",
       " 880,\n",
       " 881,\n",
       " 882,\n",
       " 883,\n",
       " 884,\n",
       " 885,\n",
       " 886,\n",
       " 887,\n",
       " 888,\n",
       " 889,\n",
       " 890,\n",
       " 891,\n",
       " 892,\n",
       " 893,\n",
       " 894,\n",
       " 895,\n",
       " 896,\n",
       " 897,\n",
       " 898,\n",
       " 899,\n",
       " 900,\n",
       " 901,\n",
       " 902,\n",
       " 903,\n",
       " 904,\n",
       " 905,\n",
       " 906,\n",
       " 907,\n",
       " 908,\n",
       " 909,\n",
       " 910,\n",
       " 911,\n",
       " 912,\n",
       " 913,\n",
       " 914,\n",
       " 915,\n",
       " 916,\n",
       " 917,\n",
       " 918,\n",
       " 919,\n",
       " 920,\n",
       " 921,\n",
       " 922,\n",
       " 923,\n",
       " 924,\n",
       " 925,\n",
       " 926,\n",
       " 927,\n",
       " 928,\n",
       " 929,\n",
       " 930,\n",
       " 931,\n",
       " 932,\n",
       " 933,\n",
       " 934,\n",
       " 935,\n",
       " 936,\n",
       " 937,\n",
       " 938,\n",
       " 939,\n",
       " 940,\n",
       " 941,\n",
       " 942,\n",
       " 943,\n",
       " 944,\n",
       " 945,\n",
       " 946,\n",
       " 947,\n",
       " 948,\n",
       " 949,\n",
       " 950,\n",
       " 951,\n",
       " 952,\n",
       " 953,\n",
       " 954,\n",
       " 955,\n",
       " 956,\n",
       " 957,\n",
       " 958,\n",
       " 959,\n",
       " 960,\n",
       " 961,\n",
       " 962,\n",
       " 963,\n",
       " 964,\n",
       " 965,\n",
       " 966,\n",
       " 967,\n",
       " 968,\n",
       " 969,\n",
       " 970,\n",
       " 971,\n",
       " 972,\n",
       " 973,\n",
       " 974,\n",
       " 975,\n",
       " 976,\n",
       " 977,\n",
       " 978,\n",
       " 979,\n",
       " 980,\n",
       " 981,\n",
       " 982,\n",
       " 983,\n",
       " 984,\n",
       " 985,\n",
       " 986,\n",
       " 987,\n",
       " 988,\n",
       " 989,\n",
       " 990,\n",
       " 991,\n",
       " 992,\n",
       " 993,\n",
       " 994,\n",
       " 995,\n",
       " 996,\n",
       " 997,\n",
       " 998,\n",
       " 999]"
      ]
     },
     "execution_count": 12,
     "metadata": {},
     "output_type": "execute_result"
    }
   ],
   "source": [
    "# 0.5.32\n",
    "def all_3_digit_nums(base, digits): return list(range(base**3))\n",
    "all_3_digit_nums(10, {0,1})"
   ]
  }
 ],
 "metadata": {
  "kernelspec": {
   "display_name": "Python 3",
   "language": "python",
   "name": "python3"
  },
  "language_info": {
   "codemirror_mode": {
    "name": "ipython",
    "version": 3
   },
   "file_extension": ".py",
   "mimetype": "text/x-python",
   "name": "python",
   "nbconvert_exporter": "python",
   "pygments_lexer": "ipython3",
   "version": "3.6.6"
  }
 },
 "nbformat": 4,
 "nbformat_minor": 2
}
